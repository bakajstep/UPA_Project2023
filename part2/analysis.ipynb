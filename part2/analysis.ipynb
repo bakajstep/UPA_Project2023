{
 "cells": [
  {
   "cell_type": "markdown",
   "id": "4e48f061c925085c",
   "metadata": {},
   "source": []
  },
  {
   "cell_type": "markdown",
   "id": "9c24dd36a12d510d",
   "metadata": {},
   "source": [
    "# Projekt - 2. část\n",
    "\n",
    "Upozornění: Otestována správná funkcionalita vytvořeného Jupyter notebooku s následujícími verzemi knihoven:\n",
    "* **seaborn: 0.13.0**\n",
    "* **matplotlib: 3.8.0**\n",
    "* **pandas: 2.1.1**\n",
    "* **numpy: 1.24.3**\n",
    "\n",
    "Se staršími verzemi knihoven není zaručeno validní spuštění.\n",
    "\n",
    "---\n",
    "\n",
    "Cíle 2. části projektu jsou:\n",
    "* provedení explorativní analýzy na zvolené datové sadě\n",
    "* úpravu datové sady do podoby vhodné pro dolování\n",
    "\n",
    "## 1. Úkol\n",
    "### Zadání: \n",
    "Z dostupných datových sad si zvolte jednu datovou sadu, kterou se budete dále zabývat. Stáhněte si zvolenou datovou sadu z uvedeného zdroje a prostudujte si dostupné informace k této datové sadě.\n",
    "\n",
    "### Řešení: \n",
    "Vybraná datová sada Most Streamed Spotify Songs 2023 – dostupná zde: [https://www.kaggle.com/datasets/nelgiriyewithana/top-spotify-songs-2023](https://www.kaggle.com/datasets/nelgiriyewithana/top-spotify-songs-2023)"
   ]
  },
  {
   "cell_type": "code",
   "execution_count": null,
   "id": "359e7a19dc254fa8",
   "metadata": {
    "ExecuteTime": {
     "end_time": "2023-11-19T22:52:59.444926113Z",
     "start_time": "2023-11-19T22:52:57.189532058Z"
    }
   },
   "outputs": [],
   "source": [
    "# Library import\n",
    "import pandas as pd\n",
    "import numpy as np\n",
    "import matplotlib.pyplot as plt\n",
    "import seaborn as sns"
   ]
  },
  {
   "cell_type": "code",
   "execution_count": null,
   "id": "608494f92df694ec",
   "metadata": {
    "ExecuteTime": {
     "end_time": "2023-11-19T22:52:59.589643796Z",
     "start_time": "2023-11-19T22:52:57.231307371Z"
    }
   },
   "outputs": [],
   "source": [
    "df = pd.read_csv('spotify-2023.csv', encoding='ISO-8859-1')\n",
    "\n",
    "df.head()"
   ]
  },
  {
   "cell_type": "markdown",
   "id": "8d23ace69db2d68f",
   "metadata": {},
   "source": [
    "## 2. Úkol\n",
    "### Zadání: \n",
    "Proveďte explorativní analýzu zvolené datové sady. Pro každý následující bod implementujte odpovídající sekci ve zdrojovém kódu a zjištěné výsledky popište v dokumentaci:\n",
    "1. prozkoumejte jednotlivé atributy datové sady, jejich typ a hodnoty, kterých nabývají (počet hodnot, nejčastější hodnoty, rozsah hodnot atd.)\n",
    "2. prozkoumejte rozložení hodnot jednotlivých atributů pomocí vhodných grafů, zaměřte se i na to, jak hodnota jednoho či dvou atributů ovlivní rozložení hodnot jiného atributu. Do dokumentace vložte alespoň 5 různých grafů, zobrazujících zjištěná rozložení hodnot. Použijte různé typy grafů (např. bodový graf, histogram, krabicový nebo houslový graf, graf složený z více podgrafů apod.) a věnujte se různým atributům. V dokumentaci také všechny grafy vhodně okomentujte – popište, jaké informace z nich můžeme vyčíst.\n",
    "3. zjistěte, zda zvolená datová sada obsahuje nějaké odlehlé hodnoty. V dokumentaci popište, jakým způsobem jste odlehlé hodnoty detekovali, a jaké hodnoty jste objevili.\n",
    "4. proveďte podrobnou analýzu chybějící hodnot. V dokumentaci popište celkový počet chybějících hodnot, počet objektů s více chybějícími hodnotami atd.\n",
    "5. proveďte korelační analýzu numerických atributů (k analýze využijte grafy i korelační koeficienty).\n",
    "\n",
    "### Řešení:\n",
    "\n",
    "#### 1. Podúkol:\n",
    "Prozkoumejte jednotlivé atributy datové sady, jejich typ a hodnoty, kterých nabývají (počet hodnot, nejčastější hodnoty, rozsah hodnot atd.)\n",
    "\n",
    "Analýza jednotlivých atributů jako celku:"
   ]
  },
  {
   "cell_type": "code",
   "execution_count": null,
   "id": "73550f6aa6f27556",
   "metadata": {
    "ExecuteTime": {
     "end_time": "2023-11-19T22:52:59.897758151Z",
     "start_time": "2023-11-19T22:52:57.289170873Z"
    }
   },
   "outputs": [],
   "source": [
    "df.info()"
   ]
  },
  {
   "cell_type": "code",
   "execution_count": null,
   "id": "ce2c39d1bd545fb3",
   "metadata": {
    "ExecuteTime": {
     "end_time": "2023-11-19T22:53:01.435519733Z",
     "start_time": "2023-11-19T22:52:57.336653096Z"
    }
   },
   "outputs": [],
   "source": [
    "numerical_cols = df.select_dtypes(include=['int64']).columns\n",
    "numerical_data = df[numerical_cols]\n",
    "\n",
    "descriptive_stats = numerical_data.describe()\n",
    "\n",
    "median_values = numerical_data.median().to_frame().T.rename(index={0: 'median'})\n",
    "mode_values = numerical_data.mode().iloc[0].to_frame().T.rename(index={0: 'mode'})\n",
    "\n",
    "complete_stats = pd.concat([descriptive_stats, median_values, mode_values])\n",
    "\n",
    "complete_stats"
   ]
  },
  {
   "cell_type": "code",
   "execution_count": null,
   "id": "bc831724beb01086",
   "metadata": {
    "ExecuteTime": {
     "end_time": "2023-11-19T22:53:01.580771871Z",
     "start_time": "2023-11-19T22:52:57.546269719Z"
    }
   },
   "outputs": [],
   "source": [
    "df.describe(include = [object])"
   ]
  },
  {
   "cell_type": "markdown",
   "id": "334057b8756151e3",
   "metadata": {},
   "source": [
    "Analýza vybraných kategorických atributů:"
   ]
  },
  {
   "cell_type": "code",
   "execution_count": null,
   "id": "4dd18997be98a79",
   "metadata": {
    "ExecuteTime": {
     "end_time": "2023-11-19T22:53:01.617740124Z",
     "start_time": "2023-11-19T22:52:57.598296399Z"
    }
   },
   "outputs": [],
   "source": [
    "df['artist(s)_name'].value_counts()"
   ]
  },
  {
   "cell_type": "code",
   "execution_count": null,
   "id": "ca1ec3331d36c2d3",
   "metadata": {
    "ExecuteTime": {
     "end_time": "2023-11-19T22:53:01.743844385Z",
     "start_time": "2023-11-19T22:52:57.645329826Z"
    }
   },
   "outputs": [],
   "source": [
    "# Zobrazení názvu skladeb, které se ve sloupci 'track_name' nacházejí více než jednou\n",
    "df['track_name'].value_counts()"
   ]
  },
  {
   "cell_type": "code",
   "execution_count": null,
   "id": "adfb0fd23190e18e",
   "metadata": {
    "ExecuteTime": {
     "end_time": "2023-11-19T22:53:01.922272242Z",
     "start_time": "2023-11-19T22:52:57.646291030Z"
    }
   },
   "outputs": [],
   "source": [
    "# Filtrace pouze těch skupin, které mají více než jednoho interpreta\n",
    "grouped = df.groupby('track_name')['artist(s)_name'].apply(list).reset_index()\n",
    "grouped[grouped['artist(s)_name'].str.len() > 1]"
   ]
  },
  {
   "cell_type": "code",
   "execution_count": null,
   "id": "c3fc6ef624af8b21",
   "metadata": {
    "ExecuteTime": {
     "end_time": "2023-11-19T22:53:01.962365607Z",
     "start_time": "2023-11-19T22:52:57.748370408Z"
    }
   },
   "outputs": [],
   "source": [
    "df['key'].value_counts()"
   ]
  },
  {
   "cell_type": "code",
   "execution_count": null,
   "id": "b6a86901d34b8510",
   "metadata": {
    "ExecuteTime": {
     "end_time": "2023-11-19T22:53:01.963578396Z",
     "start_time": "2023-11-19T22:52:57.756098139Z"
    }
   },
   "outputs": [],
   "source": [
    "df['mode'].value_counts()"
   ]
  },
  {
   "cell_type": "markdown",
   "id": "41385aea2ed3915",
   "metadata": {},
   "source": [
    "Z dat výše bylo zjištěno, že se některé sloupce chovají jako objekt, přestože obsahují číselná data, tudíž data budou upravena na numerické atributy. Některé atributy jsou rovněž neintuitivně pojmenovány a budou přejmenovány."
   ]
  },
  {
   "cell_type": "code",
   "execution_count": null,
   "id": "2fcfbf1eafc2a388",
   "metadata": {
    "ExecuteTime": {
     "end_time": "2023-11-19T22:53:01.966123697Z",
     "start_time": "2023-11-19T22:52:57.798299791Z"
    }
   },
   "outputs": [],
   "source": [
    "attributes_to_numeric = ['streams', 'in_deezer_playlists', 'in_shazam_charts']\n",
    "\n",
    "for attribute in attributes_to_numeric:\n",
    "    df[attribute] = df[attribute].str.replace(',', '')\n",
    "    df[attribute] = pd.to_numeric(df[attribute], errors='coerce')\n",
    "    \n",
    "df[attributes_to_numeric].dtypes"
   ]
  },
  {
   "cell_type": "code",
   "execution_count": null,
   "id": "df5d8a3e0c6b076e",
   "metadata": {
    "ExecuteTime": {
     "end_time": "2023-11-19T22:53:02.145564706Z",
     "start_time": "2023-11-19T22:52:57.820681058Z"
    }
   },
   "outputs": [],
   "source": [
    "numerical_cols = df.select_dtypes(include=['int64', 'float64']).columns\n",
    "numerical_data = df[numerical_cols]\n",
    "\n",
    "descriptive_stats = numerical_data.describe()\n",
    "\n",
    "median_values = numerical_data.median().to_frame().T.rename(index={0: 'median'})\n",
    "mode_values = numerical_data.mode().iloc[0].to_frame().T.rename(index={0: 'mode'})\n",
    "\n",
    "complete_stats = pd.concat([descriptive_stats, median_values, mode_values])\n",
    "\n",
    "complete_stats"
   ]
  },
  {
   "cell_type": "code",
   "execution_count": null,
   "id": "9b6838a45e58e925",
   "metadata": {
    "ExecuteTime": {
     "end_time": "2023-11-19T22:53:02.158100999Z",
     "start_time": "2023-11-19T22:52:58.106248590Z"
    }
   },
   "outputs": [],
   "source": [
    "df.describe(include = [object])"
   ]
  },
  {
   "cell_type": "markdown",
   "id": "a94dac3109dd4150",
   "metadata": {},
   "source": [
    "#### 2. Podúkol\n",
    "\n",
    "Prozkoumejte rozložení hodnot jednotlivých atributů pomocí vhodných grafů, zaměřte se i na to, jak hodnota jednoho či dvou atributů ovlivní rozložení hodnot jiného atributu. Do dokumentace vložte alespoň 5 různých grafů, zobrazujících zjištěná rozložení hodnot. Použijte různé typy grafů (např. bodový graf, histogram, krabicový nebo houslový graf, graf složený z více podgrafů apod.) a věnujte se různým atributům. V dokumentaci také všechny grafy vhodně okomentujte – popište, jaké informace z nich můžeme vyčíst."
   ]
  },
  {
   "cell_type": "code",
   "execution_count": null,
   "id": "cf11f677c1ce1dcb",
   "metadata": {
    "ExecuteTime": {
     "end_time": "2023-11-19T22:53:02.175425569Z",
     "start_time": "2023-11-19T22:52:58.120140225Z"
    }
   },
   "outputs": [],
   "source": [
    "# Vytvoření grafu zobrazujícího závislost 'streams' na 'mode'\n",
    "plt.figure(figsize=(10, 6))\n",
    "sns.boxplot(y='mode', x='streams', data=df, color='blue')\n",
    "plt.title('Závislost počtu přehrání na módu skladeb')\n",
    "plt.ylabel('Mód')\n",
    "plt.xlabel('Počet přehrání')\n",
    "plt.show()"
   ]
  },
  {
   "cell_type": "code",
   "execution_count": null,
   "id": "69373f56237a0310",
   "metadata": {
    "ExecuteTime": {
     "end_time": "2023-11-19T22:53:02.802790777Z",
     "start_time": "2023-11-19T22:52:58.961763301Z"
    }
   },
   "outputs": [],
   "source": [
    "# Definování pořadí hudebních klíčů\n",
    "keys = ['C', 'C#', 'D', 'D#', 'E', 'F', 'F#', 'G', 'G#', 'A', 'A#', 'B']\n",
    "\n",
    "# Získání unikátních klíčů z dat\n",
    "unique_keys = df['key'].unique()\n",
    "\n",
    "# Seřazení unikátních klíčů podle hudební stupnice\n",
    "ordered_keys = [key for key in keys if key in unique_keys]\n",
    "\n",
    "# Vytvoření palety barev\n",
    "palette = sns.color_palette(\"hls\", len(ordered_keys))\n",
    "\n",
    "plt.figure(figsize=(12, 8))\n",
    "sns.boxplot(y=\"key\", x=\"streams\", data=df, order=ordered_keys, palette=palette, hue='key', hue_order=ordered_keys)\n",
    "plt.xlabel(\"Počet přehrání\")\n",
    "plt.ylabel(\"Hudební klíč\")\n",
    "plt.title(\"Závislost počtu přehrání na hudebním klíči\")\n",
    "plt.show()"
   ]
  },
  {
   "cell_type": "code",
   "execution_count": null,
   "id": "3b5f9415f3ffab3e",
   "metadata": {
    "ExecuteTime": {
     "end_time": "2023-11-19T22:53:02.807577111Z",
     "start_time": "2023-11-19T22:53:00.392885132Z"
    }
   },
   "outputs": [],
   "source": [
    "plt.figure(figsize=(10, 8))\n",
    "sns.countplot(x=\"key\", data=df, order=ordered_keys, palette=palette, hue='key', hue_order=ordered_keys)\n",
    "plt.xlabel(\"Hudební klíč\")\n",
    "plt.ylabel(\"Počet\")\n",
    "plt.title(\"Počet jednotlivých hudebních klíčů\")\n",
    "plt.show()"
   ]
  },
  {
   "cell_type": "code",
   "execution_count": null,
   "id": "c5bb8d32efa0341e",
   "metadata": {
    "ExecuteTime": {
     "end_time": "2023-11-19T22:53:02.984980536Z",
     "start_time": "2023-11-19T22:53:01.305918748Z"
    }
   },
   "outputs": [],
   "source": [
    "key_counts = df['key'].value_counts(normalize=True) * 100\n",
    "\n",
    "ordered_key_counts = key_counts.reindex(ordered_keys)\n",
    "\n",
    "ordered_key_counts.plot(kind='bar', color=palette)\n",
    "plt.title('Procentuální rozložení hudebních klíčů dle skladeb')\n",
    "plt.ylabel('Procento skladeb s hudebním klíčem [%]')\n",
    "plt.xlabel('Hudební kíč')\n",
    "plt.xticks(rotation=45, ha='right')\n",
    "plt.show()"
   ]
  },
  {
   "cell_type": "code",
   "execution_count": null,
   "id": "db1ac20e2b89c38b",
   "metadata": {
    "ExecuteTime": {
     "end_time": "2023-11-19T22:53:10.298231083Z",
     "start_time": "2023-11-19T22:53:01.925714700Z"
    }
   },
   "outputs": [],
   "source": [
    "percentage_attributes = ['danceability_%', 'valence_%', 'energy_%', 'acousticness_%', 'instrumentalness_%', 'liveness_%', 'speechiness_%']\n",
    "\n",
    "fig, axes = plt.subplots(7, 1, figsize=(20, 40))\n",
    "axes = axes.flatten()\n",
    "\n",
    "for i, attribute in enumerate(percentage_attributes):\n",
    "    ax = axes[i]\n",
    "    sns.scatterplot(x=attribute, y='streams', hue='key', data=df, ax=ax, hue_order=ordered_keys)\n",
    "    ax.set_xlabel(f'Atribut {attribute}')\n",
    "    ax.set_ylabel('Počet přehrání')\n",
    "    ax.legend(title='Hudební klíč', loc='right')\n",
    "\n",
    "plt.suptitle('Závislost počtu přehrání na jednotlivých procentuálních atributech dle hudebního klíče', y=1)\n",
    "plt.tight_layout()\n",
    "plt.show()"
   ]
  },
  {
   "cell_type": "code",
   "execution_count": null,
   "id": "2179a84eec05eb14",
   "metadata": {
    "ExecuteTime": {
     "end_time": "2023-11-19T22:53:22.777655639Z",
     "start_time": "2023-11-19T22:53:10.211871007Z"
    }
   },
   "outputs": [],
   "source": [
    "plt.figure(figsize=(20, 40))\n",
    "\n",
    "for i, key in enumerate(ordered_keys):\n",
    "    key_data = df[df['key'] == key]\n",
    "    plt.subplot(6, 2, i + 1)\n",
    "    for attribute in percentage_attributes:\n",
    "        plt.scatter(key_data[attribute], key_data['streams'], label=attribute, alpha=0.5)\n",
    "\n",
    "    plt.xlabel('Hodnota atributu')\n",
    "    plt.ylabel('Počet přehrání')\n",
    "    plt.title(f'Počet přehrání proti hudebnímu klíči {key}')\n",
    "    plt.legend(title='Procentuální atribut', loc='upper right')\n",
    "\n",
    "plt.suptitle('Závislost počtu přehrání na hudebním klíči', y=1)\n",
    "plt.tight_layout()\n",
    "plt.show()"
   ]
  },
  {
   "cell_type": "code",
   "execution_count": null,
   "id": "605b46ac0383249f",
   "metadata": {
    "ExecuteTime": {
     "end_time": "2023-11-19T22:54:29.758794878Z",
     "start_time": "2023-11-19T22:53:22.776414803Z"
    }
   },
   "outputs": [],
   "source": [
    "for attribute in percentage_attributes:\n",
    "    g = sns.FacetGrid(df, col='key', hue='key', hue_order=ordered_keys, col_wrap=3, height=4)\n",
    "    g = g.map(sns.scatterplot, attribute, 'streams', alpha=0.5).add_legend()\n",
    "    g.set_axis_labels(attribute, 'Počet přehrání')\n",
    "    g.fig.suptitle(f'Závislost počtu přehrání proti atributu {attribute} podle hudebního Klíče')\n",
    "    plt.xlim(0, 100)\n",
    "    plt.subplots_adjust(top=0.95)\n",
    "    plt.show()"
   ]
  },
  {
   "cell_type": "code",
   "execution_count": null,
   "id": "d5973a666cbd960a",
   "metadata": {
    "ExecuteTime": {
     "end_time": "2023-11-19T22:54:35.402226188Z",
     "start_time": "2023-11-19T22:54:29.772781466Z"
    }
   },
   "outputs": [],
   "source": [
    "plt.figure(figsize=(15, 10)) \n",
    "\n",
    "for i, attribute in enumerate(percentage_attributes, 1):\n",
    "    plt.subplot(3, 3, i)\n",
    "    sns.histplot(data=df, x=attribute, bins=20, color='blue')\n",
    "    plt.xlim(0, 100)\n",
    "    plt.xlabel(attribute)\n",
    "    plt.ylabel(\"Počet\")\n",
    "    plt.xlabel(f'Atribut {attribute}')\n",
    "\n",
    "plt.suptitle('Počet hodnot dle procentuálních atributů')\n",
    "plt.tight_layout()\n",
    "plt.show()"
   ]
  },
  {
   "cell_type": "code",
   "execution_count": null,
   "id": "97f5d35fa7e9cf73",
   "metadata": {
    "ExecuteTime": {
     "end_time": "2023-11-19T22:54:39.156484978Z",
     "start_time": "2023-11-19T22:54:34.672794064Z"
    }
   },
   "outputs": [],
   "source": [
    "plt.figure(figsize=(20, len(percentage_attributes) * 4))\n",
    "\n",
    "for i, attribute in enumerate(percentage_attributes, 1):\n",
    "    plt.subplot(len(percentage_attributes), 1, i)\n",
    "    sns.violinplot(x=df[attribute], color='blue')\n",
    "    plt.xlim(-15, 110)\n",
    "    plt.xlabel(f'Atribut {attribute}')\n",
    "\n",
    "plt.suptitle('Houslové grafy pro jednotlivé procentuální atributy', y=1)\n",
    "plt.tight_layout()\n",
    "plt.show()"
   ]
  },
  {
   "cell_type": "code",
   "execution_count": null,
   "id": "95641bf40f3ac786",
   "metadata": {
    "ExecuteTime": {
     "end_time": "2023-11-19T22:55:01.002278726Z",
     "start_time": "2023-11-19T22:54:39.155884967Z"
    }
   },
   "outputs": [],
   "source": [
    "sns.pairplot(df[percentage_attributes], plot_kws={'color': 'blue'}, diag_kws={'color': 'blue'})\n",
    "plt.suptitle('Závislost jednoho procentuálního atributu na ostatních', y=1)\n",
    "plt.show()"
   ]
  },
  {
   "cell_type": "code",
   "execution_count": null,
   "id": "607a6d439257fb50",
   "metadata": {
    "ExecuteTime": {
     "end_time": "2023-11-19T22:55:05.443600412Z",
     "start_time": "2023-11-19T22:55:01.001462878Z"
    }
   },
   "outputs": [],
   "source": [
    "plt.figure(figsize=(15, 20)) \n",
    "\n",
    "for i, attribute in enumerate(percentage_attributes, 1):\n",
    "    plt.subplot(4, 2, i)\n",
    "    sns.scatterplot(x=attribute, y='streams', data=df, hue=attribute, palette='viridis', legend=False, alpha=0.5)\n",
    "    plt.title(f'Závislost atributu {attribute} na počtu přehrání')\n",
    "    plt.xlabel(attribute)\n",
    "    plt.xlim(0, 100)\n",
    "    plt.ylabel('Počet přehrání')\n",
    "    plt.xlabel(f'Atribut {attribute}')\n",
    "\n",
    "plt.suptitle('Závislost počtu přehrání na jednotlivých procentuálních atributech', y=1)\n",
    "plt.tight_layout()\n",
    "plt.show()"
   ]
  },
  {
   "cell_type": "code",
   "execution_count": null,
   "id": "8331479f23c2557",
   "metadata": {
    "ExecuteTime": {
     "end_time": "2023-11-19T22:55:11.958719417Z",
     "start_time": "2023-11-19T22:55:05.442596151Z"
    }
   },
   "outputs": [],
   "source": [
    "plt.figure(figsize=(15, 20)) \n",
    "\n",
    "for i, attribute in enumerate(percentage_attributes, 1):\n",
    "    plt.subplot(4, 2, i)\n",
    "    sns.scatterplot(x=attribute, y='bpm', data=df, hue=attribute, palette='viridis', legend=False, alpha=0.5)\n",
    "    plt.title(f'Závislost atributu {attribute} na BPM')\n",
    "    plt.xlabel(attribute)\n",
    "    plt.xlim(0, 100)\n",
    "    plt.ylabel('BPM')\n",
    "    plt.xlabel(f'Atribut {attribute}')\n",
    "\n",
    "plt.suptitle('Závislost BPM na jednotlivých procentuálních atributech', y=1)\n",
    "plt.tight_layout()\n",
    "plt.show()"
   ]
  },
  {
   "cell_type": "code",
   "execution_count": null,
   "id": "f9570e1350faef67",
   "metadata": {
    "ExecuteTime": {
     "end_time": "2023-11-19T22:55:12.915609985Z",
     "start_time": "2023-11-19T22:55:11.942359949Z"
    }
   },
   "outputs": [],
   "source": [
    "plt.figure(figsize=(15, 6))\n",
    "\n",
    "plt.subplot(1, 2, 1)\n",
    "sns.histplot(df['bpm'], kde=True, color='blue')\n",
    "plt.xlabel('BPM')\n",
    "plt.ylabel('Počet')\n",
    "plt.title('Histogram pro BPM')\n",
    "\n",
    "plt.subplot(1, 2, 2)\n",
    "sns.boxplot(x=df['bpm'], color='blue')\n",
    "plt.xlabel('BPM')\n",
    "plt.title('Krabicový graf pro BPM')\n",
    "\n",
    "plt.show()"
   ]
  },
  {
   "cell_type": "code",
   "execution_count": null,
   "id": "62770d7696d411e6",
   "metadata": {
    "ExecuteTime": {
     "end_time": "2023-11-19T22:55:15.491456411Z",
     "start_time": "2023-11-19T22:55:12.737709825Z"
    }
   },
   "outputs": [],
   "source": [
    "plt.figure(figsize=(15, len(percentage_attributes) * 3))\n",
    "\n",
    "for i, attribute in enumerate(percentage_attributes, 1):\n",
    "    plt.subplot(len(percentage_attributes), 1, i)\n",
    "    yearly_means = df.groupby('released_year')[attribute].mean()\n",
    "    plt.plot(yearly_means, label=attribute, color='blue')\n",
    "    plt.title(f'Atribut {attribute}')\n",
    "    plt.xlabel('Rok vydání')\n",
    "    plt.ylabel('Průměrná hodnota [%]')\n",
    "\n",
    "plt.suptitle('Rozložení roku vydání skladby dle jednotlivých procentuálních atributů', y=1)\n",
    "plt.tight_layout()\n",
    "plt.show()"
   ]
  },
  {
   "cell_type": "code",
   "execution_count": null,
   "id": "3f2466addc0135a8",
   "metadata": {
    "ExecuteTime": {
     "end_time": "2023-11-19T22:55:17.811537190Z",
     "start_time": "2023-11-19T22:55:15.513653945Z"
    }
   },
   "outputs": [],
   "source": [
    "year_counts = df['released_year'].value_counts().sort_index()\n",
    "\n",
    "plt.figure(figsize=(15, 8))\n",
    "sns.barplot(data=year_counts, color='blue')\n",
    "plt.title('Rozložení skladeb podle roku vydání')\n",
    "plt.xlabel('Rok vydání')\n",
    "plt.xticks(rotation=45, ha='right')\n",
    "plt.ylabel('Počet skladeb')\n",
    "plt.yscale('log')\n",
    "plt.show()"
   ]
  },
  {
   "cell_type": "code",
   "execution_count": null,
   "id": "3b57b81118f34703",
   "metadata": {
    "ExecuteTime": {
     "end_time": "2023-11-19T22:55:18.358483834Z",
     "start_time": "2023-11-19T22:55:17.822976346Z"
    }
   },
   "outputs": [],
   "source": [
    "plt.figure(figsize=(10, 6))\n",
    "sns.scatterplot(x='artist_count', y='streams', data=df, color='blue')\n",
    "plt.title('Vztah mezi počtem přehrání a počtem umělců ve skladbě')\n",
    "plt.xlabel('Počet umělců')\n",
    "plt.ylabel('Počet přehrání')\n",
    "plt.show()"
   ]
  },
  {
   "cell_type": "code",
   "execution_count": null,
   "id": "8c898906c79e426e",
   "metadata": {
    "ExecuteTime": {
     "end_time": "2023-11-19T22:55:21.902574262Z",
     "start_time": "2023-11-19T22:55:18.385161389Z"
    }
   },
   "outputs": [],
   "source": [
    "plt.figure(figsize=(15, 20))\n",
    "\n",
    "for i, attribute in enumerate(percentage_attributes, 1):\n",
    "    plt.subplot(4, 2, i)\n",
    "    sns.scatterplot(x=attribute, y='in_spotify_playlists', data=df, hue=attribute, palette='viridis', legend=False, alpha=0.5)\n",
    "    plt.xlim(0, 100)\n",
    "    plt.title(f\"Závislost atributu {attribute} na počtu Spotify playlistů se skladbou\")\n",
    "    plt.xlabel(attribute)\n",
    "    plt.ylabel(\"Počet Spotify playlistů se skladbou\")\n",
    "\n",
    "plt.suptitle('Rozložení počtu Spotify playlistů se skladbou dle jednotlivých procentuálních atributů', y=1)\n",
    "plt.tight_layout()\n",
    "plt.show()"
   ]
  },
  {
   "cell_type": "code",
   "execution_count": null,
   "id": "bfe8afe76aa404df",
   "metadata": {
    "ExecuteTime": {
     "end_time": "2023-11-19T22:55:25.872786081Z",
     "start_time": "2023-11-19T22:55:21.901816660Z"
    }
   },
   "outputs": [],
   "source": [
    "plt.figure(figsize=(15, 20))\n",
    "\n",
    "for i, attribute in enumerate(percentage_attributes, 1):\n",
    "    plt.subplot(4, 2, i)\n",
    "    sns.scatterplot(x=attribute, y='in_apple_playlists', data=df, hue=attribute, palette='viridis', legend=False, alpha=0.5)\n",
    "    plt.xlim(0, 100)\n",
    "    plt.title(f\"Závislost atributu {attribute} na počtu Apple playlistů se skladbou\")\n",
    "    plt.xlabel(attribute)\n",
    "    plt.ylabel(\"Počet Apple playlistů se skladbou\")\n",
    "\n",
    "plt.suptitle('Rozložení počtu Apple playlistů se skladbou dle jednotlivých procentuálních atributů', y=1)\n",
    "plt.tight_layout()\n",
    "plt.show()"
   ]
  },
  {
   "cell_type": "code",
   "execution_count": null,
   "id": "68916ae636c84f72",
   "metadata": {
    "ExecuteTime": {
     "end_time": "2023-11-19T22:55:29.815667684Z",
     "start_time": "2023-11-19T22:55:25.872008075Z"
    }
   },
   "outputs": [],
   "source": [
    "plt.figure(figsize=(15, 20))\n",
    "\n",
    "for i, attribute in enumerate(percentage_attributes, 1):\n",
    "    plt.subplot(4, 2, i)\n",
    "    sns.scatterplot(x=attribute, y='in_deezer_playlists', data=df, hue=attribute, palette='viridis', legend=False, alpha=0.5)\n",
    "    plt.title(f\"Závislost atributu {attribute} na počtu Deezer playlistů se skladbou\")\n",
    "    plt.xlabel(attribute)\n",
    "    plt.ylabel(\"Počet Deezer playlistů se skladbou\")\n",
    "\n",
    "plt.suptitle('Rozložení počtu Deezer playlistů se skladbou dle jednotlivých procentuálních atributů', y=1)\n",
    "plt.tight_layout()\n",
    "plt.show()"
   ]
  },
  {
   "cell_type": "code",
   "execution_count": null,
   "id": "59f243e78d183930",
   "metadata": {
    "ExecuteTime": {
     "end_time": "2023-11-19T22:55:35.931056784Z",
     "start_time": "2023-11-19T22:55:29.819435687Z"
    }
   },
   "outputs": [],
   "source": [
    "in_spotify_playlist = (df['in_spotify_playlists'] > 0).astype(int)\n",
    "in_apple_playlist = (df['in_apple_playlists'] > 0).astype(int)\n",
    "in_deezer_playlist = (df['in_deezer_playlists'] > 0).astype(int)\n",
    "\n",
    "plt.figure(figsize=(15, 20))\n",
    "\n",
    "for i, column in enumerate(percentage_attributes, 1):\n",
    "    plt.subplot(4, 2, i)\n",
    "    \n",
    "    sns.kdeplot(df[in_spotify_playlist == 1][column], label='Spotify')\n",
    "    sns.kdeplot(df[in_apple_playlist == 1][column], label='Apple')\n",
    "    sns.kdeplot(df[in_deezer_playlist == 1][column], label='Deezer')\n",
    "\n",
    "    plt.title(f\"Distribuce {column}\")\n",
    "    plt.xlabel(column)\n",
    "    plt.ylabel(\"Hustota\")\n",
    "    plt.legend()\n",
    "\n",
    "plt.tight_layout()\n",
    "plt.show()"
   ]
  },
  {
   "cell_type": "code",
   "execution_count": null,
   "id": "a48e6f5413055a61",
   "metadata": {
    "ExecuteTime": {
     "end_time": "2023-11-19T22:55:38.941314206Z",
     "start_time": "2023-11-19T22:55:34.757798608Z"
    }
   },
   "outputs": [],
   "source": [
    "in_spotify_chart = (df['in_spotify_charts'] > 0).astype(int)\n",
    "in_apple_chart = (df['in_apple_charts'] > 0).astype(int)\n",
    "in_deezer_chart = (df['in_deezer_charts'] > 0).astype(int)\n",
    "in_shazam_chart = (df['in_shazam_charts'] > 0).astype(int)\n",
    "\n",
    "plt.figure(figsize=(15, 20))\n",
    "\n",
    "for i, column in enumerate(percentage_attributes, 1):\n",
    "    plt.subplot(4, 2, i)\n",
    "    \n",
    "    sns.kdeplot(df[in_spotify_chart == 1][column], label='Spotify')\n",
    "    sns.kdeplot(df[in_apple_chart == 1][column], label='Apple')\n",
    "    sns.kdeplot(df[in_deezer_chart == 1][column], label='Deezer')\n",
    "    sns.kdeplot(df[in_shazam_chart == 1][column], label='Shazam')\n",
    "\n",
    "    plt.title(f\"Distribuce {column}\")\n",
    "    plt.xlabel(column)\n",
    "    plt.ylabel(\"Hustota\")\n",
    "    plt.legend()\n",
    "\n",
    "plt.suptitle('Porovnání jednotlivých procentuálních atributů dle chartů', y=1)\n",
    "plt.tight_layout()\n",
    "plt.show()"
   ]
  },
  {
   "cell_type": "markdown",
   "id": "761c67b5c3a1988d",
   "metadata": {},
   "source": [
    "#### 3. Podúkol\n",
    "\n",
    "Zjistěte, zda zvolená datová sada obsahuje nějaké odlehlé hodnoty. V dokumentaci popište, jakým způsobem jste odlehlé hodnoty detekovali, a jaké hodnoty jste objevili."
   ]
  },
  {
   "cell_type": "code",
   "execution_count": null,
   "id": "75b44d1de93064a4",
   "metadata": {
    "ExecuteTime": {
     "end_time": "2023-11-19T22:55:54.309911717Z",
     "start_time": "2023-11-19T22:55:38.940755196Z"
    }
   },
   "outputs": [],
   "source": [
    "numerical_cols = df.select_dtypes(include=['int64', 'float64']).columns\n",
    "\n",
    "plt.figure(figsize=(15, 20))\n",
    "for i, col in enumerate(numerical_cols):\n",
    "    plt.subplot(len(numerical_cols)//3 + 1, 3, i+1)\n",
    "    sns.histplot(x=df[col], color='blue')\n",
    "    plt.title(col)\n",
    "plt.tight_layout()\n",
    "plt.show()"
   ]
  },
  {
   "cell_type": "code",
   "execution_count": null,
   "id": "141c09aafa7ed09e",
   "metadata": {
    "ExecuteTime": {
     "end_time": "2023-11-19T22:56:03.019563529Z",
     "start_time": "2023-11-19T22:55:54.309123863Z"
    }
   },
   "outputs": [],
   "source": [
    "numerical_cols = df.select_dtypes(include=['int64', 'float64']).columns\n",
    "\n",
    "plt.figure(figsize=(15, 20))\n",
    "for i, col in enumerate(numerical_cols):\n",
    "    plt.subplot(len(numerical_cols)//3 + 1, 3, i+1)\n",
    "    sns.boxplot(x=df[col], color='blue')\n",
    "    plt.title(col)\n",
    "plt.tight_layout()\n",
    "plt.show()"
   ]
  },
  {
   "cell_type": "markdown",
   "id": "a24e6b2581dd838b",
   "metadata": {},
   "source": [
    "#### 4. Podúkol\n",
    "\n",
    "Proveďte podrobnou analýzu chybějící hodnot. V dokumentaci popište celkový počet chybějících hodnot, počet objektů s více chybějícími hodnotami atd."
   ]
  },
  {
   "cell_type": "code",
   "execution_count": null,
   "id": "538b366b5034e0e0",
   "metadata": {
    "ExecuteTime": {
     "end_time": "2023-11-19T22:56:03.051120247Z",
     "start_time": "2023-11-19T22:56:03.021192839Z"
    }
   },
   "outputs": [],
   "source": [
    "missing_values = df.isnull().sum()\n",
    "\n",
    "missing_values_df = pd.DataFrame(missing_values[missing_values > 0], columns=['Missing values'])\n",
    "missing_values_df.index.name = 'Attribute'\n",
    "\n",
    "total_rows = len(df)\n",
    "missing_values_df['Percentage'] = ((missing_values_df['Missing values'] / total_rows) * 100).round(2)\n",
    "\n",
    "missing_values_df"
   ]
  },
  {
   "cell_type": "code",
   "execution_count": null,
   "id": "a4ec0141f499e5bb",
   "metadata": {
    "ExecuteTime": {
     "end_time": "2023-11-19T22:56:03.874768496Z",
     "start_time": "2023-11-19T22:56:03.031799566Z"
    }
   },
   "outputs": [],
   "source": [
    "df[df['streams'].isnull()]"
   ]
  },
  {
   "cell_type": "code",
   "execution_count": null,
   "id": "1066996078a4f685",
   "metadata": {
    "ExecuteTime": {
     "end_time": "2023-11-19T22:56:03.906273592Z",
     "start_time": "2023-11-19T22:56:03.082910155Z"
    }
   },
   "outputs": [],
   "source": [
    "df[df['in_shazam_charts'].isnull()]"
   ]
  },
  {
   "cell_type": "code",
   "execution_count": null,
   "id": "dfe022a3aa47fddf",
   "metadata": {
    "ExecuteTime": {
     "end_time": "2023-11-19T22:56:03.909011923Z",
     "start_time": "2023-11-19T22:56:03.170707702Z"
    }
   },
   "outputs": [],
   "source": [
    "df[df['key'].isnull()]"
   ]
  },
  {
   "cell_type": "code",
   "execution_count": null,
   "id": "723ed60568cc525c",
   "metadata": {
    "ExecuteTime": {
     "end_time": "2023-11-19T22:56:03.937223278Z",
     "start_time": "2023-11-19T22:56:03.217917921Z"
    }
   },
   "outputs": [],
   "source": [
    "# Výpočet počtu chybějících hodnot pro každý řádek\n",
    "missing_per_row = df.isnull().sum(axis=1)\n",
    "\n",
    "# Získání počtu řádků pro každý počet chybějících hodnot\n",
    "row_counts = missing_per_row.value_counts().sort_index()\n",
    "\n",
    "row_counts_df = pd.DataFrame(row_counts).reset_index()\n",
    "row_counts_df.columns = ['Count of missing values', 'Number of rows']\n",
    "\n",
    "row_counts_df"
   ]
  },
  {
   "cell_type": "code",
   "execution_count": null,
   "id": "1f0169d7aea5b4c0",
   "metadata": {
    "ExecuteTime": {
     "end_time": "2023-11-19T22:56:03.939683507Z",
     "start_time": "2023-11-19T22:56:03.218509971Z"
    }
   },
   "outputs": [],
   "source": [
    "# Filtrace pro zobrazení řádků s právě jednou chybějícími hodnotami\n",
    "rows_with_one_missing = df[missing_per_row == 1]\n",
    "\n",
    "rows_with_one_missing"
   ]
  },
  {
   "cell_type": "code",
   "execution_count": null,
   "id": "a4ae73052262b942",
   "metadata": {
    "ExecuteTime": {
     "end_time": "2023-11-19T22:56:03.949334494Z",
     "start_time": "2023-11-19T22:56:03.241380222Z"
    }
   },
   "outputs": [],
   "source": [
    "# Filtrace pro zobrazení řádků s právě dvěmi chybějícími hodnotami\n",
    "rows_with_two_missing = df[missing_per_row == 2]\n",
    "\n",
    "rows_with_two_missing"
   ]
  },
  {
   "cell_type": "markdown",
   "id": "5b674ba3b77334e7",
   "metadata": {},
   "source": [
    "#### 5. Podúkol\n",
    "\n",
    "Proveďte korelační analýzu numerických atributů (k analýze využijte grafy i korelační koeficienty)."
   ]
  },
  {
   "cell_type": "code",
   "execution_count": null,
   "id": "ea68a309e3d53100",
   "metadata": {
    "ExecuteTime": {
     "end_time": "2023-11-19T22:56:03.953374907Z",
     "start_time": "2023-11-19T22:56:03.281779584Z"
    }
   },
   "outputs": [],
   "source": [
    "numerical_data = df.select_dtypes(include=[np.number])\n",
    "correlation_matrix = numerical_data.corr()\n",
    "\n",
    "correlation_matrix"
   ]
  },
  {
   "cell_type": "code",
   "execution_count": null,
   "id": "50596a5f4e5b25b0",
   "metadata": {
    "ExecuteTime": {
     "end_time": "2023-11-19T22:56:07.419484198Z",
     "start_time": "2023-11-19T22:56:03.329992276Z"
    }
   },
   "outputs": [],
   "source": [
    "numerical_data = df.select_dtypes(include=[np.number])\n",
    "display(numerical_data)\n",
    "correlation_matrix = numerical_data.corr()\n",
    "\n",
    "plt.figure(figsize=(20, 10))\n",
    "sns.heatmap(correlation_matrix, annot=True, cmap='coolwarm', fmt='.2f', square=True)\n",
    "plt.xticks(rotation=45, ha='right')\n",
    "plt.title('Korelační heatmapa numerických atributů')\n",
    "plt.show()"
   ]
  },
  {
   "cell_type": "code",
   "execution_count": null,
   "id": "d082399e1c05721e",
   "metadata": {
    "ExecuteTime": {
     "end_time": "2023-11-19T22:56:07.421825954Z",
     "start_time": "2023-11-19T22:56:05.700898465Z"
    }
   },
   "outputs": [],
   "source": [
    "columns_to_correlate = ['streams', 'bpm', 'danceability_%', 'valence_%', 'energy_%', 'acousticness_%', 'instrumentalness_%', 'liveness_%', 'speechiness_%']\n",
    "\n",
    "correlation_matrix = df[columns_to_correlate].corr()\n",
    "\n",
    "correlation_matrix"
   ]
  },
  {
   "cell_type": "code",
   "execution_count": null,
   "id": "4506d1f3b69b7a40",
   "metadata": {
    "ExecuteTime": {
     "end_time": "2023-11-19T22:56:11.055056807Z",
     "start_time": "2023-11-19T22:56:05.729059202Z"
    }
   },
   "outputs": [],
   "source": [
    "columns_to_correlate = ['streams', 'bpm', 'danceability_%', 'valence_%', 'energy_%', 'acousticness_%', 'instrumentalness_%', 'liveness_%', 'speechiness_%']\n",
    "\n",
    "correlation_matrix = df[columns_to_correlate].corr()\n",
    "\n",
    "plt.figure(figsize=(12, 8))\n",
    "sns.heatmap(correlation_matrix, annot=True, cmap='coolwarm', fmt=\".2f\", square=True)\n",
    "plt.xticks(rotation=45, ha='right')\n",
    "plt.title(\"Korelační heatmapa procentuálních hodnot a BPM\")\n",
    "plt.show()"
   ]
  },
  {
   "cell_type": "code",
   "execution_count": null,
   "id": "cc9ed6d7b39e97f1",
   "metadata": {
    "ExecuteTime": {
     "end_time": "2023-11-19T22:56:11.056955559Z",
     "start_time": "2023-11-19T22:56:07.375014436Z"
    }
   },
   "outputs": [],
   "source": [
    "columns_to_correlate = ['streams', 'in_spotify_playlists', 'in_spotify_charts', 'in_apple_playlists', 'in_apple_charts', 'in_deezer_playlists', 'in_deezer_charts', 'in_shazam_charts']\n",
    "\n",
    "correlation_matrix = df[columns_to_correlate].corr()\n",
    "\n",
    "correlation_matrix"
   ]
  },
  {
   "cell_type": "code",
   "execution_count": null,
   "id": "c521157b4f203aed",
   "metadata": {
    "ExecuteTime": {
     "end_time": "2023-11-19T22:56:11.167553892Z",
     "start_time": "2023-11-19T22:56:07.375886646Z"
    }
   },
   "outputs": [],
   "source": [
    "columns_to_correlate = ['streams', 'in_spotify_playlists', 'in_spotify_charts', 'in_apple_playlists', 'in_apple_charts', 'in_deezer_playlists', 'in_deezer_charts', 'in_shazam_charts']\n",
    "\n",
    "correlation_matrix = df[columns_to_correlate].corr()\n",
    "\n",
    "plt.figure(figsize=(12, 8))\n",
    "sns.heatmap(correlation_matrix, annot=True, cmap='coolwarm', fmt=\".2f\", square=True)\n",
    "plt.xticks(rotation=45, ha='right')\n",
    "plt.title(\"Korelační mapa playlistů a chartů\")\n",
    "plt.show()"
   ]
  },
  {
   "cell_type": "markdown",
   "id": "98c72087494e927c",
   "metadata": {},
   "source": [
    "## 3. Úkol\n",
    "### Zadání: \n",
    "Připravte 2 varianty datové sady vhodné pro dolovací algoritmy. Můžete uvažovat dolovací úlohu uvedenou u datové sady nebo navrhnout vlastní dolovací úlohy. V případě vlastní dolovací úlohy ji specifikujte v dokumentaci. V rámci přípravy datové sady proveďte následující kroky:\n",
    "1. Z datové sady odstraňte atributy, které jsou pro danou dolovací úlohu irelevantní. V datové sadě, pokud možno, ponechte jak kategorické, tak i numerické atributy, atributy s chybějícími hodnotami a atributy s odlehlými hodnotami (pokud je původní datová sada obsahuje).\n",
    "2. Vypořádejte se s chybějícími hodnotami. Pro odstranění těchto hodnot využijte alespoň dvě různé metody pro odstranění chybějících hodnot.\n",
    "3. Vypořádejte se s odlehlými hodnotami, jsou-li v datové sadě přítomny.\n",
    "4. Pro jednu variantu datové sady proveďte diskretizaci numerických atributů tak, aby výsledná datová sada byla vhodná pro algoritmy, které vyžadují na vstupu kategorické atributy.\n",
    "5. Pro druhou variantu datové sady proveďte vhodnou transformaci kategorických atributů na numerické atributy. Dále pak proveďte normalizaci numerických atributů, které má smysl normalizovat. Výsledná datová sada by měla být vhodná pro metody vyžadující numerické vstupy."
   ]
  },
  {
   "cell_type": "markdown",
   "id": "a884a378364a76ca",
   "metadata": {},
   "source": [
    "### Řešení: \n",
    "#### 1. Podúkol:\n",
    "Z datové sady odstraňte atributy, které jsou pro danou dolovací úlohu irelevantní. V datové sadě, pokud možno, ponechte jak kategorické, tak i numerické atributy, atributy s chybějícími hodnotami a atributy s odlehlými hodnotami (pokud je původní datová sada obsahuje)."
   ]
  },
  {
   "cell_type": "code",
   "execution_count": null,
   "id": "85727a9e201f6fbb",
   "metadata": {
    "ExecuteTime": {
     "end_time": "2023-11-19T22:56:11.169780363Z",
     "start_time": "2023-11-19T22:56:08.479070818Z"
    }
   },
   "outputs": [],
   "source": [
    "df = df.drop(['track_name', 'artist(s)_name', 'artist_count',\n",
    "              'released_year', 'released_month', 'released_day',\n",
    "              'in_spotify_playlists', 'in_spotify_charts', 'streams',\n",
    "              'in_apple_playlists', 'in_apple_charts', 'in_deezer_playlists',\n",
    "              'in_deezer_charts', 'in_shazam_charts', 'instrumentalness_%'], axis=1)\n",
    "df.info()"
   ]
  },
  {
   "cell_type": "markdown",
   "id": "2febec8817f7bd3c",
   "metadata": {},
   "source": [
    "#### 2. Podúkol:\n",
    "Vypořádejte se s chybějícími hodnotami. Pro odstranění těchto hodnot využijte alespoň dvě různé metody pro odstranění chybějících hodnot."
   ]
  },
  {
   "cell_type": "code",
   "execution_count": null,
   "id": "ee19c0545852bda6",
   "metadata": {
    "ExecuteTime": {
     "end_time": "2023-11-19T22:56:11.171308188Z",
     "start_time": "2023-11-19T22:56:08.500330448Z"
    }
   },
   "outputs": [],
   "source": [
    "def remove_rows_missing_values(df, column_name):\n",
    "    return df[df[column_name].notna()]"
   ]
  },
  {
   "cell_type": "code",
   "execution_count": null,
   "id": "ab934a9b943779a8",
   "metadata": {
    "ExecuteTime": {
     "end_time": "2023-11-19T22:56:11.172646527Z",
     "start_time": "2023-11-19T22:56:08.510848511Z"
    }
   },
   "outputs": [],
   "source": [
    "print(\"Počet záznamů před odstraněním prázdných hodnot: \", len(df))\n",
    "\n",
    "df = remove_rows_missing_values(df, \"key\")\n",
    "\n",
    "print(\"Počet záznamů po odstraněním prázdných hodnot: \", len(df))"
   ]
  },
  {
   "cell_type": "markdown",
   "id": "90a2dff354bfbf67",
   "metadata": {},
   "source": [
    "U vybrané datové sady byly ošetřeny chybějící hodnoty atributu \"key\". Pro ošetření hodnot byla vybrána metoda ignorování záznamu, jelikož nelze chybějící hodnotu doplnit (například nejčastější hodnotou).\n",
    "\n",
    "Při přípravě dané datové sady pro dolovací úlohu nelze využít druhou metodu pro ošetření chybějících hodnot (doplnění chybějících hodnot ručně nebo automaticky), jelikož jediný atribut, který má chybějící hodnoty, je atribut \"in_shazam_charts\", který nebyl pro danou dolovací úlohu vybrán."
   ]
  },
  {
   "cell_type": "markdown",
   "id": "9bde91b344acd3a0",
   "metadata": {},
   "source": [
    "#### 3. Podúkol:\n",
    "Vypořádejte se s odlehlými hodnotami, jsou-li v datové sadě přítomny."
   ]
  },
  {
   "cell_type": "code",
   "execution_count": null,
   "id": "6cb4e6c76a611b4",
   "metadata": {
    "ExecuteTime": {
     "end_time": "2023-11-19T22:56:11.173375597Z",
     "start_time": "2023-11-19T22:56:08.525695168Z"
    }
   },
   "outputs": [],
   "source": [
    "def remove_outliers(df, column):\n",
    "    Q1 = df[column].quantile(0.25)\n",
    "    Q3 = df[column].quantile(0.75)\n",
    "    IQR = Q3 - Q1\n",
    "    lower_bound = Q1 - 1.5 * IQR\n",
    "    upper_bound = Q3 + 1.5 * IQR\n",
    "\n",
    "    return df[(df[column] >= lower_bound) & (df[column] <= upper_bound)]"
   ]
  },
  {
   "cell_type": "code",
   "execution_count": null,
   "id": "5f8ee502f48f75b3",
   "metadata": {
    "ExecuteTime": {
     "end_time": "2023-11-19T22:56:14.390076555Z",
     "start_time": "2023-11-19T22:56:08.569761303Z"
    }
   },
   "outputs": [],
   "source": [
    "numerical_cols = df.select_dtypes(include=['int64', 'float64']).columns\n",
    "\n",
    "plt.figure(figsize=(15, 20))\n",
    "for i, col in enumerate(numerical_cols):\n",
    "    plt.subplot(len(numerical_cols)//3 + 1, 3, i+1)\n",
    "    sns.boxplot(x=df[col], color='blue')\n",
    "    plt.title(col)\n",
    "plt.tight_layout()\n",
    "plt.show()"
   ]
  },
  {
   "cell_type": "code",
   "execution_count": null,
   "id": "12a2f944ee464504",
   "metadata": {
    "ExecuteTime": {
     "end_time": "2023-11-19T22:56:14.390528971Z",
     "start_time": "2023-11-19T22:56:11.536103134Z"
    }
   },
   "outputs": [],
   "source": [
    "df = remove_outliers(df, \"bpm\")\n",
    "df = remove_outliers(df, \"danceability_%\")\n",
    "df = remove_outliers(df, \"valence_%\")\n",
    "df = remove_outliers(df, \"energy_%\")\n",
    "df = remove_outliers(df, \"acousticness_%\")\n",
    "df = remove_outliers(df, \"liveness_%\")\n",
    "df = remove_outliers(df, \"speechiness_%\")"
   ]
  },
  {
   "cell_type": "code",
   "execution_count": null,
   "id": "2e3c0fd8fdf31892",
   "metadata": {
    "ExecuteTime": {
     "end_time": "2023-11-19T22:56:14.454132836Z",
     "start_time": "2023-11-19T22:56:11.573565269Z"
    }
   },
   "outputs": [],
   "source": [
    "numerical_cols = df.select_dtypes(include=['int64', 'float64']).columns\n",
    "\n",
    "plt.figure(figsize=(15, 20))\n",
    "for i, col in enumerate(numerical_cols):\n",
    "    plt.subplot(len(numerical_cols)//3 + 1, 3, i+1)\n",
    "    sns.boxplot(x=df[col], color='blue')\n",
    "    plt.title(col)\n",
    "plt.tight_layout()\n",
    "plt.show()"
   ]
  },
  {
   "cell_type": "markdown",
   "id": "e989d844d562d891",
   "metadata": {},
   "source": [
    "#### 4. Podúkol:\n",
    "Pro jednu variantu datové sady proveďte diskretizaci numerických atributů tak, aby výsledná datová sada byla vhodná pro algoritmy, které vyžadují na vstupu kategorické atributy."
   ]
  },
  {
   "cell_type": "code",
   "execution_count": null,
   "id": "3c431e2a47ab90e0",
   "metadata": {
    "ExecuteTime": {
     "end_time": "2023-11-19T22:56:14.454689562Z",
     "start_time": "2023-11-19T22:56:14.182067626Z"
    }
   },
   "outputs": [],
   "source": [
    "def categorize_bpm(df):\n",
    "    conditions = [\n",
    "        (df['bpm'] <= 60),\n",
    "        (df['bpm'] <= 80),\n",
    "        (df['bpm'] <= 100),\n",
    "        (df['bpm'] <= 120),\n",
    "        (df['bpm'] <= 140),\n",
    "        (df['bpm'] <= 160),\n",
    "        (df['bpm'] > 160)\n",
    "    ]\n",
    "\n",
    "    categories = [\n",
    "        'very_slow',\n",
    "        'slow',\n",
    "        'slightly_slow',\n",
    "        'medium_tempo',\n",
    "        'fast',\n",
    "        'very_fast',\n",
    "        'extremely_fast'\n",
    "    ]\n",
    "\n",
    "    df['category_bpm'] = np.select(conditions, categories, default='Not Categorized')\n",
    "    df = df.drop(['bpm'], axis=1)\n",
    "\n",
    "    return df\n",
    "\n",
    "def categorize_percentage_values(df, column):\n",
    "    conditions = [\n",
    "        (df[column] <= 10),\n",
    "        (df[column] <= 20),\n",
    "        (df[column] <= 30),\n",
    "        (df[column] <= 40),\n",
    "        (df[column] <= 50),\n",
    "        (df[column] <= 60),\n",
    "        (df[column] <= 70),\n",
    "        (df[column] <= 80),\n",
    "        (df[column] <= 90),\n",
    "        (df[column] <= 100),\n",
    "    ]\n",
    "    \n",
    "    categories = [\n",
    "        'btw_0_10',\n",
    "        'btw_10_20',\n",
    "        'btw_20_30',\n",
    "        'btw_30_40',\n",
    "        'btw_40_50',\n",
    "        'btw_50_60',\n",
    "        'btw_60_70',\n",
    "        'btw_70_80',\n",
    "        'btw_80_90',\n",
    "        'btw_90_100'\n",
    "    ]\n",
    "    \n",
    "    \n",
    "    df['category_' + column] = np.select(conditions, categories, default='Not Categorized')\n",
    "    df = df.drop([column], axis=1)\n",
    "    \n",
    "    return df"
   ]
  },
  {
   "cell_type": "code",
   "execution_count": null,
   "id": "86571c39de2f554a",
   "metadata": {
    "ExecuteTime": {
     "end_time": "2023-11-19T22:56:14.456694892Z",
     "start_time": "2023-11-19T22:56:14.199537489Z"
    }
   },
   "outputs": [],
   "source": [
    "df_categorize = df.copy()\n",
    "df_categorize = categorize_bpm(df_categorize)\n",
    "\n",
    "df_categorize = categorize_percentage_values(df_categorize, 'danceability_%')\n",
    "df_categorize = categorize_percentage_values(df_categorize, 'valence_%')\n",
    "df_categorize = categorize_percentage_values(df_categorize, 'energy_%')\n",
    "df_categorize = categorize_percentage_values(df_categorize, 'acousticness_%')\n",
    "df_categorize = categorize_percentage_values(df_categorize, 'liveness_%')\n",
    "df_categorize = categorize_percentage_values(df_categorize, 'speechiness_%')\n",
    "\n",
    "df_categorize.head(50).to_csv('categorize_data.csv', index=False)\n",
    "df_categorize"
   ]
  },
  {
   "cell_type": "markdown",
   "id": "28e2cc38506ea030",
   "metadata": {},
   "source": [
    "#### 5. Podúkol:\n",
    "Pro druhou variantu datové sady proveďte vhodnou transformaci kategorických atributů na numerické atributy. Dále pak proveďte normalizaci numerických atributů, které má smysl normalizovat. Výsledná datová sada by měla být vhodná pro metody vyžadující numerické vstupy."
   ]
  },
  {
   "cell_type": "code",
   "execution_count": null,
   "id": "d5468015988b3b63",
   "metadata": {
    "ExecuteTime": {
     "end_time": "2023-11-19T22:56:14.485284553Z",
     "start_time": "2023-11-19T22:56:14.264454947Z"
    }
   },
   "outputs": [],
   "source": [
    "def transform_numeric(df, column):\n",
    "    one_hot = pd.get_dummies(df[column])\n",
    "    df = df.drop(column, axis = 1)\n",
    "    return df.join(one_hot)\n",
    "\n",
    "def normalize_column(df, column_name):\n",
    "    df[column_name] = df[column_name] / 100\n",
    "    return df\n",
    "\n",
    "df_numeric = transform_numeric(df, 'key')\n",
    "df_numeric = transform_numeric(df_numeric, 'mode')\n",
    "\n",
    "df_numeric = normalize_column(df_numeric, 'danceability_%')\n",
    "df_numeric = normalize_column(df_numeric, 'valence_%')\n",
    "df_numeric = normalize_column(df_numeric, 'energy_%')\n",
    "df_numeric = normalize_column(df_numeric, 'acousticness_%')\n",
    "df_numeric = normalize_column(df_numeric, 'liveness_%')\n",
    "df_numeric = normalize_column(df_numeric, 'speechiness_%')\n",
    "\n",
    "df_numeric.head(50).to_csv('numeric_data.csv', index=False)\n",
    "df_numeric"
   ]
  }
 ],
 "metadata": {
  "kernelspec": {
   "display_name": "Python 3 (ipykernel)",
   "language": "python",
   "name": "python3"
  },
  "language_info": {
   "codemirror_mode": {
    "name": "ipython",
    "version": 3
   },
   "file_extension": ".py",
   "mimetype": "text/x-python",
   "name": "python",
   "nbconvert_exporter": "python",
   "pygments_lexer": "ipython3",
   "version": "3.11.5"
  }
 },
 "nbformat": 4,
 "nbformat_minor": 5
}
